{
 "cells": [
  {
   "cell_type": "markdown",
   "metadata": {},
   "source": [
    "# Data Preprocessing"
   ]
  },
  {
   "cell_type": "code",
   "execution_count": 2,
   "metadata": {},
   "outputs": [
    {
     "name": "stdout",
     "output_type": "stream",
     "text": [
      "Current working directory:  /Users/irellzane/MLprojects/California-Housing-ML\n",
      "Requirement already satisfied: numpy>=1.26.4 in ./housing_env/lib/python3.12/site-packages (from -r requirements.txt (line 1)) (1.26.4)\n",
      "Requirement already satisfied: pandas>=2.2.0 in ./housing_env/lib/python3.12/site-packages (from -r requirements.txt (line 2)) (2.2.0)\n",
      "Requirement already satisfied: scikit-learn>=1.4.0 in ./housing_env/lib/python3.12/site-packages (from -r requirements.txt (line 3)) (1.4.0)\n",
      "Requirement already satisfied: pyarrow>=15.0.0 in ./housing_env/lib/python3.12/site-packages (from -r requirements.txt (line 4)) (15.0.0)\n",
      "Requirement already satisfied: matplotlib>=3.8.3 in ./housing_env/lib/python3.12/site-packages (from -r requirements.txt (line 5)) (3.8.3)\n",
      "Requirement already satisfied: python-dateutil>=2.8.2 in ./housing_env/lib/python3.12/site-packages (from pandas>=2.2.0->-r requirements.txt (line 2)) (2.8.2)\n",
      "Requirement already satisfied: pytz>=2020.1 in ./housing_env/lib/python3.12/site-packages (from pandas>=2.2.0->-r requirements.txt (line 2)) (2024.1)\n",
      "Requirement already satisfied: tzdata>=2022.7 in ./housing_env/lib/python3.12/site-packages (from pandas>=2.2.0->-r requirements.txt (line 2)) (2024.1)\n",
      "Requirement already satisfied: scipy>=1.6.0 in ./housing_env/lib/python3.12/site-packages (from scikit-learn>=1.4.0->-r requirements.txt (line 3)) (1.12.0)\n",
      "Requirement already satisfied: joblib>=1.2.0 in ./housing_env/lib/python3.12/site-packages (from scikit-learn>=1.4.0->-r requirements.txt (line 3)) (1.3.2)\n",
      "Requirement already satisfied: threadpoolctl>=2.0.0 in ./housing_env/lib/python3.12/site-packages (from scikit-learn>=1.4.0->-r requirements.txt (line 3)) (3.2.0)\n",
      "Requirement already satisfied: contourpy>=1.0.1 in ./housing_env/lib/python3.12/site-packages (from matplotlib>=3.8.3->-r requirements.txt (line 5)) (1.2.0)\n",
      "Requirement already satisfied: cycler>=0.10 in ./housing_env/lib/python3.12/site-packages (from matplotlib>=3.8.3->-r requirements.txt (line 5)) (0.12.1)\n",
      "Requirement already satisfied: fonttools>=4.22.0 in ./housing_env/lib/python3.12/site-packages (from matplotlib>=3.8.3->-r requirements.txt (line 5)) (4.48.1)\n",
      "Requirement already satisfied: kiwisolver>=1.3.1 in ./housing_env/lib/python3.12/site-packages (from matplotlib>=3.8.3->-r requirements.txt (line 5)) (1.4.5)\n",
      "Requirement already satisfied: packaging>=20.0 in ./housing_env/lib/python3.12/site-packages (from matplotlib>=3.8.3->-r requirements.txt (line 5)) (23.2)\n",
      "Requirement already satisfied: pillow>=8 in ./housing_env/lib/python3.12/site-packages (from matplotlib>=3.8.3->-r requirements.txt (line 5)) (10.2.0)\n",
      "Requirement already satisfied: pyparsing>=2.3.1 in ./housing_env/lib/python3.12/site-packages (from matplotlib>=3.8.3->-r requirements.txt (line 5)) (3.1.1)\n",
      "Requirement already satisfied: six>=1.5 in ./housing_env/lib/python3.12/site-packages (from python-dateutil>=2.8.2->pandas>=2.2.0->-r requirements.txt (line 2)) (1.16.0)\n"
     ]
    }
   ],
   "source": [
    "import os\n",
    "if os.getcwd().endswith(\"notebooks\"):\n",
    "    os.chdir('..')\n",
    "\n",
    "print(\"Current working directory: \", os.getcwd())\n",
    "if not os.getcwd().endswith(\"California-Housing-ML\"):\n",
    "    raise ValueError(\"Please change working directory to 'path/toCalifornia-Housing-ML' before proceeding\")\n",
    "!pip install -r requirements.txt"
   ]
  },
  {
   "cell_type": "code",
   "execution_count": 3,
   "metadata": {},
   "outputs": [],
   "source": [
    "import pandas as pd\n",
    "import numpy as np\n",
    "import matplotlib.pyplot as plt\n",
    "\n",
    "housing = pd.read_csv(\"data/housing_train.csv\", index_col=0)"
   ]
  },
  {
   "cell_type": "markdown",
   "metadata": {},
   "source": [
    "## Separate Labels"
   ]
  },
  {
   "cell_type": "code",
   "execution_count": 5,
   "metadata": {},
   "outputs": [
    {
     "data": {
      "text/html": [
       "<div>\n",
       "<style scoped>\n",
       "    .dataframe tbody tr th:only-of-type {\n",
       "        vertical-align: middle;\n",
       "    }\n",
       "\n",
       "    .dataframe tbody tr th {\n",
       "        vertical-align: top;\n",
       "    }\n",
       "\n",
       "    .dataframe thead th {\n",
       "        text-align: right;\n",
       "    }\n",
       "</style>\n",
       "<table border=\"1\" class=\"dataframe\">\n",
       "  <thead>\n",
       "    <tr style=\"text-align: right;\">\n",
       "      <th></th>\n",
       "      <th>longitude</th>\n",
       "      <th>latitude</th>\n",
       "      <th>housing_median_age</th>\n",
       "      <th>total_rooms</th>\n",
       "      <th>total_bedrooms</th>\n",
       "      <th>population</th>\n",
       "      <th>households</th>\n",
       "      <th>median_income</th>\n",
       "      <th>median_house_value</th>\n",
       "      <th>ocean_proximity</th>\n",
       "    </tr>\n",
       "  </thead>\n",
       "  <tbody>\n",
       "    <tr>\n",
       "      <th>13096</th>\n",
       "      <td>-122.42</td>\n",
       "      <td>37.80</td>\n",
       "      <td>52.0</td>\n",
       "      <td>3321.0</td>\n",
       "      <td>1115.0</td>\n",
       "      <td>1576.0</td>\n",
       "      <td>1034.0</td>\n",
       "      <td>2.0987</td>\n",
       "      <td>458300.0</td>\n",
       "      <td>NEAR BAY</td>\n",
       "    </tr>\n",
       "    <tr>\n",
       "      <th>14973</th>\n",
       "      <td>-118.38</td>\n",
       "      <td>34.14</td>\n",
       "      <td>40.0</td>\n",
       "      <td>1965.0</td>\n",
       "      <td>354.0</td>\n",
       "      <td>666.0</td>\n",
       "      <td>357.0</td>\n",
       "      <td>6.0876</td>\n",
       "      <td>483800.0</td>\n",
       "      <td>&lt;1H OCEAN</td>\n",
       "    </tr>\n",
       "    <tr>\n",
       "      <th>3785</th>\n",
       "      <td>-121.98</td>\n",
       "      <td>38.36</td>\n",
       "      <td>33.0</td>\n",
       "      <td>1083.0</td>\n",
       "      <td>217.0</td>\n",
       "      <td>562.0</td>\n",
       "      <td>203.0</td>\n",
       "      <td>2.4330</td>\n",
       "      <td>101700.0</td>\n",
       "      <td>INLAND</td>\n",
       "    </tr>\n",
       "    <tr>\n",
       "      <th>14689</th>\n",
       "      <td>-117.11</td>\n",
       "      <td>33.75</td>\n",
       "      <td>17.0</td>\n",
       "      <td>4174.0</td>\n",
       "      <td>851.0</td>\n",
       "      <td>1845.0</td>\n",
       "      <td>780.0</td>\n",
       "      <td>2.2618</td>\n",
       "      <td>96100.0</td>\n",
       "      <td>INLAND</td>\n",
       "    </tr>\n",
       "    <tr>\n",
       "      <th>20507</th>\n",
       "      <td>-118.15</td>\n",
       "      <td>33.77</td>\n",
       "      <td>36.0</td>\n",
       "      <td>4366.0</td>\n",
       "      <td>1211.0</td>\n",
       "      <td>1912.0</td>\n",
       "      <td>1172.0</td>\n",
       "      <td>3.5292</td>\n",
       "      <td>361800.0</td>\n",
       "      <td>NEAR OCEAN</td>\n",
       "    </tr>\n",
       "  </tbody>\n",
       "</table>\n",
       "</div>"
      ],
      "text/plain": [
       "       longitude  latitude  housing_median_age  total_rooms  total_bedrooms  \\\n",
       "13096    -122.42     37.80                52.0       3321.0          1115.0   \n",
       "14973    -118.38     34.14                40.0       1965.0           354.0   \n",
       "3785     -121.98     38.36                33.0       1083.0           217.0   \n",
       "14689    -117.11     33.75                17.0       4174.0           851.0   \n",
       "20507    -118.15     33.77                36.0       4366.0          1211.0   \n",
       "\n",
       "       population  households  median_income  median_house_value  \\\n",
       "13096      1576.0      1034.0         2.0987            458300.0   \n",
       "14973       666.0       357.0         6.0876            483800.0   \n",
       "3785        562.0       203.0         2.4330            101700.0   \n",
       "14689      1845.0       780.0         2.2618             96100.0   \n",
       "20507      1912.0      1172.0         3.5292            361800.0   \n",
       "\n",
       "      ocean_proximity  \n",
       "13096        NEAR BAY  \n",
       "14973       <1H OCEAN  \n",
       "3785           INLAND  \n",
       "14689          INLAND  \n",
       "20507      NEAR OCEAN  "
      ]
     },
     "execution_count": 5,
     "metadata": {},
     "output_type": "execute_result"
    }
   ],
   "source": [
    "housing_labels = housing[\"median_house_value\"].copy()\n",
    "housing.drop(\"median_house_value\", axis=1)\n",
    "housing.head()"
   ]
  },
  {
   "cell_type": "markdown",
   "metadata": {},
   "source": [
    "## Imputation"
   ]
  },
  {
   "cell_type": "code",
   "execution_count": 28,
   "metadata": {},
   "outputs": [
    {
     "name": "stdout",
     "output_type": "stream",
     "text": [
      "[-1.1851e+02  3.4260e+01  2.9000e+01  2.1250e+03  4.3400e+02  1.1670e+03\n",
      "  4.0800e+02  3.5385e+00  1.7920e+05]\n",
      "[-1.1851e+02  3.4260e+01  2.9000e+01  2.1250e+03  4.3400e+02  1.1670e+03\n",
      "  4.0800e+02  3.5385e+00  1.7920e+05]\n"
     ]
    }
   ],
   "source": [
    "from sklearn.impute import SimpleImputer\n",
    "imputer = SimpleImputer(strategy=\"median\")\n",
    "\n",
    "housing_num = housing.select_dtypes(\"number\")\n",
    "imputer.fit(housing_num)\n",
    "print(imputer.statistics_)\n",
    "print(housing_num.median().values)"
   ]
  }
 ],
 "metadata": {
  "kernelspec": {
   "display_name": "housing_env",
   "language": "python",
   "name": "python3"
  },
  "language_info": {
   "codemirror_mode": {
    "name": "ipython",
    "version": 3
   },
   "file_extension": ".py",
   "mimetype": "text/x-python",
   "name": "python",
   "nbconvert_exporter": "python",
   "pygments_lexer": "ipython3",
   "version": "3.12.0"
  }
 },
 "nbformat": 4,
 "nbformat_minor": 2
}
