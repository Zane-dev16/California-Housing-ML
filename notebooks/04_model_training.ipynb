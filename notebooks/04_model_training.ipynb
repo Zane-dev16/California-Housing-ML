{
 "cells": [
  {
   "cell_type": "code",
   "execution_count": 2,
   "metadata": {},
   "outputs": [
    {
     "name": "stdout",
     "output_type": "stream",
     "text": [
      "Current working directory:  /Users/irellzane/MLprojects/California-Housing-ML\n",
      "Requirement already satisfied: numpy>=1.26.4 in ./housing_env/lib/python3.12/site-packages (from -r requirements.txt (line 1)) (1.26.4)\n",
      "Requirement already satisfied: pandas>=2.2.0 in ./housing_env/lib/python3.12/site-packages (from -r requirements.txt (line 2)) (2.2.0)\n",
      "Requirement already satisfied: scikit-learn>=1.4.0 in ./housing_env/lib/python3.12/site-packages (from -r requirements.txt (line 3)) (1.4.0)\n",
      "Requirement already satisfied: pyarrow>=15.0.0 in ./housing_env/lib/python3.12/site-packages (from -r requirements.txt (line 4)) (15.0.0)\n",
      "Requirement already satisfied: matplotlib>=3.8.3 in ./housing_env/lib/python3.12/site-packages (from -r requirements.txt (line 5)) (3.8.3)\n",
      "Requirement already satisfied: python-dateutil>=2.8.2 in ./housing_env/lib/python3.12/site-packages (from pandas>=2.2.0->-r requirements.txt (line 2)) (2.8.2)\n",
      "Requirement already satisfied: pytz>=2020.1 in ./housing_env/lib/python3.12/site-packages (from pandas>=2.2.0->-r requirements.txt (line 2)) (2024.1)\n",
      "Requirement already satisfied: tzdata>=2022.7 in ./housing_env/lib/python3.12/site-packages (from pandas>=2.2.0->-r requirements.txt (line 2)) (2024.1)\n",
      "Requirement already satisfied: scipy>=1.6.0 in ./housing_env/lib/python3.12/site-packages (from scikit-learn>=1.4.0->-r requirements.txt (line 3)) (1.12.0)\n",
      "Requirement already satisfied: joblib>=1.2.0 in ./housing_env/lib/python3.12/site-packages (from scikit-learn>=1.4.0->-r requirements.txt (line 3)) (1.3.2)\n",
      "Requirement already satisfied: threadpoolctl>=2.0.0 in ./housing_env/lib/python3.12/site-packages (from scikit-learn>=1.4.0->-r requirements.txt (line 3)) (3.2.0)\n",
      "Requirement already satisfied: contourpy>=1.0.1 in ./housing_env/lib/python3.12/site-packages (from matplotlib>=3.8.3->-r requirements.txt (line 5)) (1.2.0)\n",
      "Requirement already satisfied: cycler>=0.10 in ./housing_env/lib/python3.12/site-packages (from matplotlib>=3.8.3->-r requirements.txt (line 5)) (0.12.1)\n",
      "Requirement already satisfied: fonttools>=4.22.0 in ./housing_env/lib/python3.12/site-packages (from matplotlib>=3.8.3->-r requirements.txt (line 5)) (4.48.1)\n",
      "Requirement already satisfied: kiwisolver>=1.3.1 in ./housing_env/lib/python3.12/site-packages (from matplotlib>=3.8.3->-r requirements.txt (line 5)) (1.4.5)\n",
      "Requirement already satisfied: packaging>=20.0 in ./housing_env/lib/python3.12/site-packages (from matplotlib>=3.8.3->-r requirements.txt (line 5)) (23.2)\n",
      "Requirement already satisfied: pillow>=8 in ./housing_env/lib/python3.12/site-packages (from matplotlib>=3.8.3->-r requirements.txt (line 5)) (10.2.0)\n",
      "Requirement already satisfied: pyparsing>=2.3.1 in ./housing_env/lib/python3.12/site-packages (from matplotlib>=3.8.3->-r requirements.txt (line 5)) (3.1.1)\n",
      "Requirement already satisfied: six>=1.5 in ./housing_env/lib/python3.12/site-packages (from python-dateutil>=2.8.2->pandas>=2.2.0->-r requirements.txt (line 2)) (1.16.0)\n"
     ]
    }
   ],
   "source": [
    "import os\n",
    "if os.getcwd().endswith(\"notebooks\"):\n",
    "    os.chdir('..')\n",
    "\n",
    "print(\"Current working directory: \", os.getcwd())\n",
    "if not os.getcwd().endswith(\"California-Housing-ML\"):\n",
    "    raise ValueError(\"Please change working directory to 'path/toCalifornia-Housing-ML' before proceeding\")\n",
    "!pip install -r requirements.txt"
   ]
  },
  {
   "cell_type": "code",
   "execution_count": 3,
   "metadata": {},
   "outputs": [
    {
     "ename": "NameError",
     "evalue": "name 'cat_pipeline' is not defined",
     "output_type": "error",
     "traceback": [
      "\u001b[0;31m---------------------------------------------------------------------------\u001b[0m",
      "\u001b[0;31mNameError\u001b[0m                                 Traceback (most recent call last)",
      "Cell \u001b[0;32mIn[53], line 62\u001b[0m\n\u001b[1;32m     50\u001b[0m cluster_simil \u001b[38;5;241m=\u001b[39m ClusterSimilarity(n_clusters\u001b[38;5;241m=\u001b[39m\u001b[38;5;241m10\u001b[39m, gamma\u001b[38;5;241m=\u001b[39m\u001b[38;5;241m1\u001b[39m, random_state\u001b[38;5;241m=\u001b[39m\u001b[38;5;241m42\u001b[39m)\n\u001b[1;32m     51\u001b[0m default_num_pipeline \u001b[38;5;241m=\u001b[39m make_pipeline(\n\u001b[1;32m     52\u001b[0m     SimpleImputer(strategy\u001b[38;5;241m=\u001b[39m\u001b[38;5;124m\"\u001b[39m\u001b[38;5;124mmedian\u001b[39m\u001b[38;5;124m\"\u001b[39m),\n\u001b[1;32m     53\u001b[0m     StandardScaler()\n\u001b[1;32m     54\u001b[0m )\n\u001b[1;32m     56\u001b[0m preprocessing \u001b[38;5;241m=\u001b[39m ColumnTransformer([\n\u001b[1;32m     57\u001b[0m     (\u001b[38;5;124m\"\u001b[39m\u001b[38;5;124mbedrooms\u001b[39m\u001b[38;5;124m\"\u001b[39m, ratio_pipeline(), [\u001b[38;5;124m\"\u001b[39m\u001b[38;5;124mtotal_bedrooms\u001b[39m\u001b[38;5;124m\"\u001b[39m, \u001b[38;5;124m\"\u001b[39m\u001b[38;5;124mtotal_rooms\u001b[39m\u001b[38;5;124m\"\u001b[39m]), \n\u001b[1;32m     58\u001b[0m     (\u001b[38;5;124m\"\u001b[39m\u001b[38;5;124mrooms_per_house\u001b[39m\u001b[38;5;124m\"\u001b[39m, ratio_pipeline(), [\u001b[38;5;124m\"\u001b[39m\u001b[38;5;124mtotal_rooms\u001b[39m\u001b[38;5;124m\"\u001b[39m, \u001b[38;5;124m\"\u001b[39m\u001b[38;5;124mhouseholds\u001b[39m\u001b[38;5;124m\"\u001b[39m]),\n\u001b[1;32m     59\u001b[0m     (\u001b[38;5;124m\"\u001b[39m\u001b[38;5;124mpeople_per_house\u001b[39m\u001b[38;5;124m\"\u001b[39m, ratio_pipeline(), [\u001b[38;5;124m\"\u001b[39m\u001b[38;5;124mpopulation\u001b[39m\u001b[38;5;124m\"\u001b[39m, \u001b[38;5;124m\"\u001b[39m\u001b[38;5;124mhouseholds\u001b[39m\u001b[38;5;124m\"\u001b[39m]),\n\u001b[1;32m     60\u001b[0m     (\u001b[38;5;124m\"\u001b[39m\u001b[38;5;124mlog\u001b[39m\u001b[38;5;124m\"\u001b[39m, log_pipeline, [\u001b[38;5;124m\"\u001b[39m\u001b[38;5;124mtotal_bedrooms\u001b[39m\u001b[38;5;124m\"\u001b[39m, \u001b[38;5;124m\"\u001b[39m\u001b[38;5;124mtotal_rooms\u001b[39m\u001b[38;5;124m\"\u001b[39m, \u001b[38;5;124m\"\u001b[39m\u001b[38;5;124mpopulation\u001b[39m\u001b[38;5;124m\"\u001b[39m, \u001b[38;5;124m\"\u001b[39m\u001b[38;5;124mhouseholds\u001b[39m\u001b[38;5;124m\"\u001b[39m, \u001b[38;5;124m\"\u001b[39m\u001b[38;5;124mmedian_income\u001b[39m\u001b[38;5;124m\"\u001b[39m]),\n\u001b[1;32m     61\u001b[0m     (\u001b[38;5;124m\"\u001b[39m\u001b[38;5;124mgeo\u001b[39m\u001b[38;5;124m\"\u001b[39m, cluster_simil, [\u001b[38;5;124m\"\u001b[39m\u001b[38;5;124mlatitude\u001b[39m\u001b[38;5;124m\"\u001b[39m, \u001b[38;5;124m\"\u001b[39m\u001b[38;5;124mlongitude\u001b[39m\u001b[38;5;124m\"\u001b[39m]),\n\u001b[0;32m---> 62\u001b[0m     (\u001b[38;5;124m\"\u001b[39m\u001b[38;5;124mcat\u001b[39m\u001b[38;5;124m\"\u001b[39m, \u001b[43mcat_pipeline\u001b[49m, make_column_selector(dtype_include\u001b[38;5;241m=\u001b[39m\u001b[38;5;28mobject\u001b[39m))\n\u001b[1;32m     63\u001b[0m ],\n\u001b[1;32m     64\u001b[0m remainder\u001b[38;5;241m=\u001b[39mdefault_num_pipeline\n\u001b[1;32m     65\u001b[0m )\n",
      "\u001b[0;31mNameError\u001b[0m: name 'cat_pipeline' is not defined"
     ]
    }
   ],
   "source": [
    "import pandas as pd\n",
    "import numpy as np\n",
    "from modules.preprocessing import preprocessing"
   ]
  },
  {
   "cell_type": "code",
   "execution_count": 42,
   "metadata": {},
   "outputs": [
    {
     "data": {
      "text/html": [
       "<div>\n",
       "<style scoped>\n",
       "    .dataframe tbody tr th:only-of-type {\n",
       "        vertical-align: middle;\n",
       "    }\n",
       "\n",
       "    .dataframe tbody tr th {\n",
       "        vertical-align: top;\n",
       "    }\n",
       "\n",
       "    .dataframe thead th {\n",
       "        text-align: right;\n",
       "    }\n",
       "</style>\n",
       "<table border=\"1\" class=\"dataframe\">\n",
       "  <thead>\n",
       "    <tr style=\"text-align: right;\">\n",
       "      <th></th>\n",
       "      <th>n_clusters</th>\n",
       "      <th>max_features</th>\n",
       "      <th>split0</th>\n",
       "      <th>split1</th>\n",
       "      <th>split2</th>\n",
       "      <th>mean_test_rmse</th>\n",
       "    </tr>\n",
       "  </thead>\n",
       "  <tbody>\n",
       "    <tr>\n",
       "      <th>1</th>\n",
       "      <td>45</td>\n",
       "      <td>9</td>\n",
       "      <td>41204</td>\n",
       "      <td>42108</td>\n",
       "      <td>42998</td>\n",
       "      <td>42103</td>\n",
       "    </tr>\n",
       "    <tr>\n",
       "      <th>8</th>\n",
       "      <td>32</td>\n",
       "      <td>7</td>\n",
       "      <td>41991</td>\n",
       "      <td>42557</td>\n",
       "      <td>43431</td>\n",
       "      <td>42660</td>\n",
       "    </tr>\n",
       "    <tr>\n",
       "      <th>5</th>\n",
       "      <td>42</td>\n",
       "      <td>4</td>\n",
       "      <td>42031</td>\n",
       "      <td>42968</td>\n",
       "      <td>43617</td>\n",
       "      <td>42872</td>\n",
       "    </tr>\n",
       "    <tr>\n",
       "      <th>0</th>\n",
       "      <td>41</td>\n",
       "      <td>16</td>\n",
       "      <td>42580</td>\n",
       "      <td>42869</td>\n",
       "      <td>43604</td>\n",
       "      <td>43018</td>\n",
       "    </tr>\n",
       "    <tr>\n",
       "      <th>2</th>\n",
       "      <td>23</td>\n",
       "      <td>8</td>\n",
       "      <td>42421</td>\n",
       "      <td>42841</td>\n",
       "      <td>44232</td>\n",
       "      <td>43165</td>\n",
       "    </tr>\n",
       "  </tbody>\n",
       "</table>\n",
       "</div>"
      ],
      "text/plain": [
       "  n_clusters max_features  split0  split1  split2  mean_test_rmse\n",
       "1         45            9   41204   42108   42998           42103\n",
       "8         32            7   41991   42557   43431           42660\n",
       "5         42            4   42031   42968   43617           42872\n",
       "0         41           16   42580   42869   43604           43018\n",
       "2         23            8   42421   42841   44232           43165"
      ]
     },
     "execution_count": 17,
     "metadata": {},
     "output_type": "execute_result"
    }
   ],
   "source": [
    "cv_res = pd.DataFrame(rnd_search.cv_results_)\n",
    "clean_param_search_res(cv_res).head()"
   ]
  },
  {
   "cell_type": "markdown",
   "metadata": {},
   "source": [
    "```{toggle} Click the button to reveal!\n",
    ":show:\n",
    "Some hidden toggle content!\n",
    "\n",
    "![](../images/cool.jpg)\n",
    "```"
   ]
  },
  {
   "cell_type": "markdown",
   "metadata": {},
   "source": [
    "## Train and Evaluate"
   ]
  },
  {
   "cell_type": "markdown",
   "metadata": {},
   "source": [
    "## Save model"
   ]
  },
  {
   "cell_type": "code",
   "execution_count": 21,
   "metadata": {},
   "outputs": [
    {
     "data": {
      "text/plain": [
       "['models/my_california_housing_model.pkl.gz']"
      ]
     },
     "execution_count": 21,
     "metadata": {},
     "output_type": "execute_result"
    }
   ],
   "source": [
    "import joblib\n",
    "\n",
    "joblib.dump(final_model, \"models/my_california_housing_model.pkl.gz\", compress='gzip')"
   ]
  }
 ],
 "metadata": {
  "kernelspec": {
   "display_name": "housing_env",
   "language": "python",
   "name": "python3"
  },
  "language_info": {
   "codemirror_mode": {
    "name": "ipython",
    "version": 3
   },
   "file_extension": ".py",
   "mimetype": "text/x-python",
   "name": "python",
   "nbconvert_exporter": "python",
   "pygments_lexer": "ipython3",
   "version": "3.12.0"
  }
 },
 "nbformat": 4,
 "nbformat_minor": 2
}
