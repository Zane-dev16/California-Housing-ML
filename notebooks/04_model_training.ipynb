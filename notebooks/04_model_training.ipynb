{
 "cells": [
  {
   "cell_type": "code",
   "execution_count": 52,
   "metadata": {},
   "outputs": [
    {
     "name": "stdout",
     "output_type": "stream",
     "text": [
      "Current working directory:  /Users/irellzane/MLprojects/California-Housing-ML\n",
      "Requirement already satisfied: numpy>=1.26.4 in ./housing_env/lib/python3.12/site-packages (from -r requirements.txt (line 1)) (1.26.4)\n",
      "Requirement already satisfied: pandas>=2.2.0 in ./housing_env/lib/python3.12/site-packages (from -r requirements.txt (line 2)) (2.2.0)\n",
      "Requirement already satisfied: scikit-learn>=1.4.0 in ./housing_env/lib/python3.12/site-packages (from -r requirements.txt (line 3)) (1.4.0)\n",
      "Requirement already satisfied: pyarrow>=15.0.0 in ./housing_env/lib/python3.12/site-packages (from -r requirements.txt (line 4)) (15.0.0)\n",
      "Requirement already satisfied: matplotlib>=3.8.3 in ./housing_env/lib/python3.12/site-packages (from -r requirements.txt (line 5)) (3.8.3)\n",
      "Requirement already satisfied: python-dateutil>=2.8.2 in ./housing_env/lib/python3.12/site-packages (from pandas>=2.2.0->-r requirements.txt (line 2)) (2.8.2)\n",
      "Requirement already satisfied: pytz>=2020.1 in ./housing_env/lib/python3.12/site-packages (from pandas>=2.2.0->-r requirements.txt (line 2)) (2024.1)\n",
      "Requirement already satisfied: tzdata>=2022.7 in ./housing_env/lib/python3.12/site-packages (from pandas>=2.2.0->-r requirements.txt (line 2)) (2024.1)\n",
      "Requirement already satisfied: scipy>=1.6.0 in ./housing_env/lib/python3.12/site-packages (from scikit-learn>=1.4.0->-r requirements.txt (line 3)) (1.12.0)\n",
      "Requirement already satisfied: joblib>=1.2.0 in ./housing_env/lib/python3.12/site-packages (from scikit-learn>=1.4.0->-r requirements.txt (line 3)) (1.3.2)\n",
      "Requirement already satisfied: threadpoolctl>=2.0.0 in ./housing_env/lib/python3.12/site-packages (from scikit-learn>=1.4.0->-r requirements.txt (line 3)) (3.2.0)\n",
      "Requirement already satisfied: contourpy>=1.0.1 in ./housing_env/lib/python3.12/site-packages (from matplotlib>=3.8.3->-r requirements.txt (line 5)) (1.2.0)\n",
      "Requirement already satisfied: cycler>=0.10 in ./housing_env/lib/python3.12/site-packages (from matplotlib>=3.8.3->-r requirements.txt (line 5)) (0.12.1)\n",
      "Requirement already satisfied: fonttools>=4.22.0 in ./housing_env/lib/python3.12/site-packages (from matplotlib>=3.8.3->-r requirements.txt (line 5)) (4.48.1)\n",
      "Requirement already satisfied: kiwisolver>=1.3.1 in ./housing_env/lib/python3.12/site-packages (from matplotlib>=3.8.3->-r requirements.txt (line 5)) (1.4.5)\n",
      "Requirement already satisfied: packaging>=20.0 in ./housing_env/lib/python3.12/site-packages (from matplotlib>=3.8.3->-r requirements.txt (line 5)) (23.2)\n",
      "Requirement already satisfied: pillow>=8 in ./housing_env/lib/python3.12/site-packages (from matplotlib>=3.8.3->-r requirements.txt (line 5)) (10.2.0)\n",
      "Requirement already satisfied: pyparsing>=2.3.1 in ./housing_env/lib/python3.12/site-packages (from matplotlib>=3.8.3->-r requirements.txt (line 5)) (3.1.1)\n",
      "Requirement already satisfied: six>=1.5 in ./housing_env/lib/python3.12/site-packages (from python-dateutil>=2.8.2->pandas>=2.2.0->-r requirements.txt (line 2)) (1.16.0)\n"
     ]
    }
   ],
   "source": [
    "import os\n",
    "if os.getcwd().endswith(\"notebooks\"):\n",
    "    os.chdir('..')\n",
    "\n",
    "print(\"Current working directory: \", os.getcwd())\n",
    "if not os.getcwd().endswith(\"California-Housing-ML\"):\n",
    "    raise ValueError(\"Please change working directory to 'path/toCalifornia-Housing-ML' before proceeding\")\n",
    "!pip install -r requirements.txt"
   ]
  },
  {
   "cell_type": "code",
   "execution_count": 67,
   "metadata": {},
   "outputs": [],
   "source": [
    "import pandas as pd\n",
    "import numpy as np\n",
    "from sklearn.base import BaseEstimator, TransformerMixin\n",
    "from sklearn.cluster import KMeans\n",
    "from sklearn.impute import SimpleImputer\n",
    "from sklearn.pipeline import make_pipeline\n",
    "from sklearn.preprocessing import FunctionTransformer, StandardScaler, OneHotEncoder\n",
    "from sklearn.metrics.pairwise import rbf_kernel\n",
    "from sklearn.compose import ColumnTransformer, make_column_selector\n",
    "\n",
    "\n",
    "class ClusterSimilarity(BaseEstimator, TransformerMixin):\n",
    "    def __init__(self, n_clusters=10, gamma=1, random_state=None):\n",
    "        self.n_clusters = n_clusters\n",
    "        self.gamma = gamma\n",
    "        self.random_state = random_state\n",
    "\n",
    "    def fit(self, X, y=None, sample_weight=None):\n",
    "        self.kmeans = KMeans(n_clusters=self.n_clusters, \n",
    "                             random_state=self.random_state)\n",
    "        self.kmeans.fit(X, sample_weight=sample_weight)\n",
    "        return self\n",
    "    \n",
    "    def transform(self, X):\n",
    "        self.cluster_centers_ = self.kmeans.cluster_centers_\n",
    "        return rbf_kernel(X, self.kmeans.cluster_centers_, gamma=self.gamma)\n",
    "    \n",
    "    def get_feature_names_out(self, names=None):\n",
    "        return [f\"Cluster {i} similarity\" for i in range(self.n_clusters)]\n",
    "\n",
    "def column_ratio(X):\n",
    "    return X[:, [0]] / X[:, [1]]\n",
    "\n",
    "def ratio_name(function_transformer, feature_names_in):\n",
    "    return [\"ratio\"]\n",
    "\n",
    "def ratio_pipeline():\n",
    "    return make_pipeline(\n",
    "        SimpleImputer(strategy=\"median\"),\n",
    "        FunctionTransformer(column_ratio, feature_names_out=ratio_name),\n",
    "        StandardScaler()\n",
    "    )\n",
    "\n",
    "cat_pipeline = make_pipeline(SimpleImputer(strategy=\"most_frequent\"),\n",
    "                             OneHotEncoder(handle_unknown=\"ignore\"))\n",
    "\n",
    "log_pipeline = make_pipeline(\n",
    "        SimpleImputer(strategy=\"median\"),\n",
    "        FunctionTransformer(np.log, feature_names_out=\"one-to-one\"),\n",
    "        StandardScaler()\n",
    "    )\n",
    "\n",
    "cluster_simil = ClusterSimilarity(n_clusters=10, gamma=1, random_state=42)\n",
    "default_num_pipeline = make_pipeline(\n",
    "    SimpleImputer(strategy=\"median\"),\n",
    "    StandardScaler()\n",
    ")\n",
    "\n",
    "preprocessing = ColumnTransformer([\n",
    "    (\"bedrooms\", ratio_pipeline(), [\"total_bedrooms\", \"total_rooms\"]), \n",
    "    (\"rooms_per_house\", ratio_pipeline(), [\"total_rooms\", \"households\"]),\n",
    "    (\"people_per_house\", ratio_pipeline(), [\"population\", \"households\"]),\n",
    "    (\"log\", log_pipeline, [\"total_bedrooms\", \"total_rooms\", \"population\", \"households\", \"median_income\"]),\n",
    "    (\"geo\", cluster_simil, [\"latitude\", \"longitude\"]),\n",
    "    (\"cat\", cat_pipeline, make_column_selector(dtype_include=object))\n",
    "],\n",
    "remainder=default_num_pipeline\n",
    ")"
   ]
  },
  {
   "cell_type": "code",
   "execution_count": 55,
   "metadata": {},
   "outputs": [
    {
     "data": {
      "text/html": [
       "<div>\n",
       "<style scoped>\n",
       "    .dataframe tbody tr th:only-of-type {\n",
       "        vertical-align: middle;\n",
       "    }\n",
       "\n",
       "    .dataframe tbody tr th {\n",
       "        vertical-align: top;\n",
       "    }\n",
       "\n",
       "    .dataframe thead th {\n",
       "        text-align: right;\n",
       "    }\n",
       "</style>\n",
       "<table border=\"1\" class=\"dataframe\">\n",
       "  <thead>\n",
       "    <tr style=\"text-align: right;\">\n",
       "      <th></th>\n",
       "      <th>bedrooms__ratio</th>\n",
       "      <th>rooms_per_house__ratio</th>\n",
       "      <th>people_per_house__ratio</th>\n",
       "      <th>log__total_bedrooms</th>\n",
       "      <th>log__total_rooms</th>\n",
       "      <th>log__population</th>\n",
       "      <th>log__households</th>\n",
       "      <th>log__median_income</th>\n",
       "      <th>geo__Cluster 0 similarity</th>\n",
       "      <th>geo__Cluster 1 similarity</th>\n",
       "      <th>...</th>\n",
       "      <th>geo__Cluster 6 similarity</th>\n",
       "      <th>geo__Cluster 7 similarity</th>\n",
       "      <th>geo__Cluster 8 similarity</th>\n",
       "      <th>geo__Cluster 9 similarity</th>\n",
       "      <th>cat__ocean_proximity_&lt;1H OCEAN</th>\n",
       "      <th>cat__ocean_proximity_INLAND</th>\n",
       "      <th>cat__ocean_proximity_ISLAND</th>\n",
       "      <th>cat__ocean_proximity_NEAR BAY</th>\n",
       "      <th>cat__ocean_proximity_NEAR OCEAN</th>\n",
       "      <th>remainder__housing_median_age</th>\n",
       "    </tr>\n",
       "  </thead>\n",
       "  <tbody>\n",
       "    <tr>\n",
       "      <th>13096</th>\n",
       "      <td>1.846624</td>\n",
       "      <td>-0.866027</td>\n",
       "      <td>-0.330204</td>\n",
       "      <td>1.324114</td>\n",
       "      <td>0.637892</td>\n",
       "      <td>0.456906</td>\n",
       "      <td>1.310369</td>\n",
       "      <td>-1.071522</td>\n",
       "      <td>4.581829e-01</td>\n",
       "      <td>1.241847e-14</td>\n",
       "      <td>...</td>\n",
       "      <td>8.489216e-04</td>\n",
       "      <td>9.770322e-01</td>\n",
       "      <td>2.382191e-08</td>\n",
       "      <td>3.819126e-18</td>\n",
       "      <td>0.0</td>\n",
       "      <td>0.0</td>\n",
       "      <td>0.0</td>\n",
       "      <td>1.0</td>\n",
       "      <td>0.0</td>\n",
       "      <td>1.861119</td>\n",
       "    </tr>\n",
       "    <tr>\n",
       "      <th>14973</th>\n",
       "      <td>-0.508121</td>\n",
       "      <td>0.024550</td>\n",
       "      <td>-0.253616</td>\n",
       "      <td>-0.252671</td>\n",
       "      <td>-0.063576</td>\n",
       "      <td>-0.711654</td>\n",
       "      <td>-0.142030</td>\n",
       "      <td>1.194712</td>\n",
       "      <td>6.511495e-10</td>\n",
       "      <td>9.579596e-01</td>\n",
       "      <td>...</td>\n",
       "      <td>5.614049e-27</td>\n",
       "      <td>1.260964e-13</td>\n",
       "      <td>1.103491e-01</td>\n",
       "      <td>3.547610e-01</td>\n",
       "      <td>1.0</td>\n",
       "      <td>0.0</td>\n",
       "      <td>0.0</td>\n",
       "      <td>0.0</td>\n",
       "      <td>0.0</td>\n",
       "      <td>0.907630</td>\n",
       "    </tr>\n",
       "    <tr>\n",
       "      <th>3785</th>\n",
       "      <td>-0.202155</td>\n",
       "      <td>-0.041193</td>\n",
       "      <td>-0.051041</td>\n",
       "      <td>-0.925266</td>\n",
       "      <td>-0.859927</td>\n",
       "      <td>-0.941997</td>\n",
       "      <td>-0.913030</td>\n",
       "      <td>-0.756981</td>\n",
       "      <td>3.432506e-01</td>\n",
       "      <td>4.261141e-15</td>\n",
       "      <td>...</td>\n",
       "      <td>5.641131e-03</td>\n",
       "      <td>7.303265e-01</td>\n",
       "      <td>2.508224e-08</td>\n",
       "      <td>2.669659e-18</td>\n",
       "      <td>0.0</td>\n",
       "      <td>1.0</td>\n",
       "      <td>0.0</td>\n",
       "      <td>0.0</td>\n",
       "      <td>0.0</td>\n",
       "      <td>0.351428</td>\n",
       "    </tr>\n",
       "    <tr>\n",
       "      <th>14689</th>\n",
       "      <td>-0.149006</td>\n",
       "      <td>-0.034858</td>\n",
       "      <td>-0.141475</td>\n",
       "      <td>0.952773</td>\n",
       "      <td>0.943475</td>\n",
       "      <td>0.670700</td>\n",
       "      <td>0.925373</td>\n",
       "      <td>-0.912253</td>\n",
       "      <td>2.244844e-15</td>\n",
       "      <td>2.704823e-01</td>\n",
       "      <td>...</td>\n",
       "      <td>5.913326e-35</td>\n",
       "      <td>5.201263e-20</td>\n",
       "      <td>1.712982e-03</td>\n",
       "      <td>8.874598e-01</td>\n",
       "      <td>0.0</td>\n",
       "      <td>1.0</td>\n",
       "      <td>0.0</td>\n",
       "      <td>0.0</td>\n",
       "      <td>0.0</td>\n",
       "      <td>-0.919891</td>\n",
       "    </tr>\n",
       "    <tr>\n",
       "      <th>20507</th>\n",
       "      <td>0.963208</td>\n",
       "      <td>-0.666554</td>\n",
       "      <td>-0.306148</td>\n",
       "      <td>1.437622</td>\n",
       "      <td>1.003590</td>\n",
       "      <td>0.719093</td>\n",
       "      <td>1.481464</td>\n",
       "      <td>0.034537</td>\n",
       "      <td>1.090228e-11</td>\n",
       "      <td>9.422206e-01</td>\n",
       "      <td>...</td>\n",
       "      <td>5.421817e-30</td>\n",
       "      <td>1.048030e-15</td>\n",
       "      <td>2.568824e-02</td>\n",
       "      <td>5.279506e-01</td>\n",
       "      <td>0.0</td>\n",
       "      <td>0.0</td>\n",
       "      <td>0.0</td>\n",
       "      <td>0.0</td>\n",
       "      <td>1.0</td>\n",
       "      <td>0.589800</td>\n",
       "    </tr>\n",
       "  </tbody>\n",
       "</table>\n",
       "<p>5 rows × 24 columns</p>\n",
       "</div>"
      ],
      "text/plain": [
       "       bedrooms__ratio  rooms_per_house__ratio  people_per_house__ratio  \\\n",
       "13096         1.846624               -0.866027                -0.330204   \n",
       "14973        -0.508121                0.024550                -0.253616   \n",
       "3785         -0.202155               -0.041193                -0.051041   \n",
       "14689        -0.149006               -0.034858                -0.141475   \n",
       "20507         0.963208               -0.666554                -0.306148   \n",
       "\n",
       "       log__total_bedrooms  log__total_rooms  log__population  \\\n",
       "13096             1.324114          0.637892         0.456906   \n",
       "14973            -0.252671         -0.063576        -0.711654   \n",
       "3785             -0.925266         -0.859927        -0.941997   \n",
       "14689             0.952773          0.943475         0.670700   \n",
       "20507             1.437622          1.003590         0.719093   \n",
       "\n",
       "       log__households  log__median_income  geo__Cluster 0 similarity  \\\n",
       "13096         1.310369           -1.071522               4.581829e-01   \n",
       "14973        -0.142030            1.194712               6.511495e-10   \n",
       "3785         -0.913030           -0.756981               3.432506e-01   \n",
       "14689         0.925373           -0.912253               2.244844e-15   \n",
       "20507         1.481464            0.034537               1.090228e-11   \n",
       "\n",
       "       geo__Cluster 1 similarity  ...  geo__Cluster 6 similarity  \\\n",
       "13096               1.241847e-14  ...               8.489216e-04   \n",
       "14973               9.579596e-01  ...               5.614049e-27   \n",
       "3785                4.261141e-15  ...               5.641131e-03   \n",
       "14689               2.704823e-01  ...               5.913326e-35   \n",
       "20507               9.422206e-01  ...               5.421817e-30   \n",
       "\n",
       "       geo__Cluster 7 similarity  geo__Cluster 8 similarity  \\\n",
       "13096               9.770322e-01               2.382191e-08   \n",
       "14973               1.260964e-13               1.103491e-01   \n",
       "3785                7.303265e-01               2.508224e-08   \n",
       "14689               5.201263e-20               1.712982e-03   \n",
       "20507               1.048030e-15               2.568824e-02   \n",
       "\n",
       "       geo__Cluster 9 similarity  cat__ocean_proximity_<1H OCEAN  \\\n",
       "13096               3.819126e-18                             0.0   \n",
       "14973               3.547610e-01                             1.0   \n",
       "3785                2.669659e-18                             0.0   \n",
       "14689               8.874598e-01                             0.0   \n",
       "20507               5.279506e-01                             0.0   \n",
       "\n",
       "       cat__ocean_proximity_INLAND  cat__ocean_proximity_ISLAND  \\\n",
       "13096                          0.0                          0.0   \n",
       "14973                          0.0                          0.0   \n",
       "3785                           1.0                          0.0   \n",
       "14689                          1.0                          0.0   \n",
       "20507                          0.0                          0.0   \n",
       "\n",
       "       cat__ocean_proximity_NEAR BAY  cat__ocean_proximity_NEAR OCEAN  \\\n",
       "13096                            1.0                              0.0   \n",
       "14973                            0.0                              0.0   \n",
       "3785                             0.0                              0.0   \n",
       "14689                            0.0                              0.0   \n",
       "20507                            0.0                              1.0   \n",
       "\n",
       "       remainder__housing_median_age  \n",
       "13096                       1.861119  \n",
       "14973                       0.907630  \n",
       "3785                        0.351428  \n",
       "14689                      -0.919891  \n",
       "20507                       0.589800  \n",
       "\n",
       "[5 rows x 24 columns]"
      ]
     },
     "execution_count": 55,
     "metadata": {},
     "output_type": "execute_result"
    }
   ],
   "source": [
    "housing = pd.read_csv(\"data/housing_train_prepped.csv\", index_col=0)\n",
    "housing_labels = pd.read_csv(\"data/housing_train_labels.csv\", index_col=0)\n",
    "housing.head()"
   ]
  },
  {
   "cell_type": "markdown",
   "metadata": {},
   "source": [
    "## Train and Evaluate"
   ]
  },
  {
   "cell_type": "markdown",
   "metadata": {},
   "source": [
    "#### With Linear Regression"
   ]
  },
  {
   "cell_type": "code",
   "execution_count": 56,
   "metadata": {},
   "outputs": [
    {
     "data": {
      "text/plain": [
       "array([[246000.],\n",
       "       [372700.],\n",
       "       [135700.],\n",
       "       [ 91400.],\n",
       "       [330900.]])"
      ]
     },
     "execution_count": 56,
     "metadata": {},
     "output_type": "execute_result"
    }
   ],
   "source": [
    "from sklearn.linear_model import LinearRegression\n",
    "\n",
    "lin_reg = LinearRegression()\n",
    "lin_reg.fit(housing, housing_labels)\n",
    "\n",
    "housing_predictions = lin_reg.predict(housing)\n",
    "housing_predictions[:5].round(-2)"
   ]
  },
  {
   "cell_type": "code",
   "execution_count": 57,
   "metadata": {},
   "outputs": [
    {
     "data": {
      "text/plain": [
       "array([[458300.],\n",
       "       [483800.],\n",
       "       [101700.],\n",
       "       [ 96100.],\n",
       "       [361800.]])"
      ]
     },
     "execution_count": 57,
     "metadata": {},
     "output_type": "execute_result"
    }
   ],
   "source": [
    "housing_labels.iloc[:5].values"
   ]
  },
  {
   "cell_type": "code",
   "execution_count": 58,
   "metadata": {},
   "outputs": [
    {
     "data": {
      "text/plain": [
       "68972.88910758459"
      ]
     },
     "execution_count": 58,
     "metadata": {},
     "output_type": "execute_result"
    }
   ],
   "source": [
    "from sklearn.metrics import root_mean_squared_error\n",
    "\n",
    "lin_rmse = root_mean_squared_error(housing_labels, housing_predictions)\n",
    "lin_rmse"
   ]
  },
  {
   "cell_type": "markdown",
   "metadata": {},
   "source": [
    "#### With Decision Tree Regressor"
   ]
  },
  {
   "cell_type": "code",
   "execution_count": 59,
   "metadata": {},
   "outputs": [
    {
     "data": {
      "text/plain": [
       "array([458300., 483800., 101700.,  96100., 361800.])"
      ]
     },
     "execution_count": 59,
     "metadata": {},
     "output_type": "execute_result"
    }
   ],
   "source": [
    "from sklearn.tree import DecisionTreeRegressor\n",
    "\n",
    "tree_reg = DecisionTreeRegressor(random_state=42)\n",
    "tree_reg.fit(housing, housing_labels)\n",
    "\n",
    "housing_predictions = tree_reg.predict(housing)\n",
    "housing_predictions[:5].round(2)"
   ]
  },
  {
   "cell_type": "code",
   "execution_count": 60,
   "metadata": {},
   "outputs": [
    {
     "data": {
      "text/plain": [
       "array([[458300.],\n",
       "       [483800.],\n",
       "       [101700.],\n",
       "       [ 96100.],\n",
       "       [361800.]])"
      ]
     },
     "execution_count": 60,
     "metadata": {},
     "output_type": "execute_result"
    }
   ],
   "source": [
    "housing_labels[:5].values"
   ]
  },
  {
   "cell_type": "code",
   "execution_count": 61,
   "metadata": {},
   "outputs": [
    {
     "data": {
      "text/plain": [
       "0.0"
      ]
     },
     "execution_count": 61,
     "metadata": {},
     "output_type": "execute_result"
    }
   ],
   "source": [
    "tree_rmse = root_mean_squared_error(housing_labels, housing_predictions)\n",
    "tree_rmse # Model Overfits!"
   ]
  },
  {
   "cell_type": "markdown",
   "metadata": {},
   "source": [
    "## Cross Validation"
   ]
  },
  {
   "cell_type": "code",
   "execution_count": 62,
   "metadata": {},
   "outputs": [
    {
     "data": {
      "text/plain": [
       "count       10.000000\n",
       "mean     66149.463525\n",
       "std       2505.997238\n",
       "min      62602.424703\n",
       "25%      63914.082682\n",
       "50%      66248.434408\n",
       "75%      68107.671276\n",
       "max      69853.960730\n",
       "dtype: float64"
      ]
     },
     "execution_count": 62,
     "metadata": {},
     "output_type": "execute_result"
    }
   ],
   "source": [
    "from sklearn.model_selection import cross_val_score\n",
    "\n",
    "tree_rmse = -cross_val_score(tree_reg, housing, housing_labels, \n",
    "                            scoring=\"neg_root_mean_squared_error\", cv=10)\n",
    "\n",
    "pd.Series(tree_rmse).describe()"
   ]
  },
  {
   "cell_type": "markdown",
   "metadata": {},
   "source": [
    "#### Attempt with Random Forest Regressor"
   ]
  },
  {
   "cell_type": "code",
   "execution_count": 63,
   "metadata": {},
   "outputs": [],
   "source": [
    "from sklearn.ensemble import RandomForestRegressor\n",
    "from sklearn.pipeline import make_pipeline\n",
    "\n",
    "forest_reg = RandomForestRegressor(random_state=42)\n",
    "forest_rmses = -cross_val_score(forest_reg, housing, housing_labels[\"median_house_value\"], scoring=\"neg_root_mean_squared_error\", cv=10)"
   ]
  },
  {
   "cell_type": "code",
   "execution_count": 64,
   "metadata": {},
   "outputs": [
    {
     "data": {
      "text/plain": [
       "count       10.000000\n",
       "mean     47174.587364\n",
       "std        996.823918\n",
       "min      45617.905147\n",
       "25%      46559.165989\n",
       "50%      47225.189327\n",
       "75%      47495.894845\n",
       "max      49392.754151\n",
       "dtype: float64"
      ]
     },
     "execution_count": 64,
     "metadata": {},
     "output_type": "execute_result"
    }
   ],
   "source": [
    "pd.Series(forest_rmses).describe()"
   ]
  },
  {
   "cell_type": "markdown",
   "metadata": {},
   "source": [
    "## Fine Tune Hyperparams"
   ]
  }
 ],
 "metadata": {
  "kernelspec": {
   "display_name": "housing_env",
   "language": "python",
   "name": "python3"
  },
  "language_info": {
   "codemirror_mode": {
    "name": "ipython",
    "version": 3
   },
   "file_extension": ".py",
   "mimetype": "text/x-python",
   "name": "python",
   "nbconvert_exporter": "python",
   "pygments_lexer": "ipython3",
   "version": "3.12.0"
  }
 },
 "nbformat": 4,
 "nbformat_minor": 2
}
